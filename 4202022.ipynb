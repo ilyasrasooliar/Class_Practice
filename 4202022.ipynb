{
  "nbformat": 4,
  "nbformat_minor": 0,
  "metadata": {
    "colab": {
      "name": "4202022.ipynb",
      "provenance": [],
      "collapsed_sections": [],
      "authorship_tag": "ABX9TyOS+Bzw3zOhuCZmKgXOWp0X",
      "include_colab_link": true
    },
    "kernelspec": {
      "name": "python3",
      "display_name": "Python 3"
    },
    "language_info": {
      "name": "python"
    }
  },
  "cells": [
    {
      "cell_type": "markdown",
      "metadata": {
        "id": "view-in-github",
        "colab_type": "text"
      },
      "source": [
        "<a href=\"https://colab.research.google.com/github/ilyasrasooliar/Class_Practice/blob/main/4202022.ipynb\" target=\"_parent\"><img src=\"https://colab.research.google.com/assets/colab-badge.svg\" alt=\"Open In Colab\"/></a>"
      ]
    },
    {
      "cell_type": "code",
      "execution_count": null,
      "metadata": {
        "id": "ETQhQM9V8kk0"
      },
      "outputs": [],
      "source": [
        "import pandas as pd\n",
        "\n",
        "df = pd.read_csv('Data_Science_Jobs_Salaries.csv')\n",
        "print(df)\n",
        "\n",
        "#df.info()\n",
        "#print(df.columns)\n",
        "#df.drop(['work_year'], axis=1)\n",
        "#print(df['salary'].dtype)\n",
        "\n",
        "print(df['salary'].mean())\n",
        "print(df['salary'].mode())\n",
        "\n"
      ]
    },
    {
      "cell_type": "code",
      "source": [
        "import pandas as pd\n",
        "\n",
        "df = pd.read_csv('Data_Science_Jobs_Salaries.csv')\n",
        "\n",
        "print(df)\n",
        "\n",
        "df.filter('salary')\n",
        "\n"
      ],
      "metadata": {
        "id": "ka0TrqG4hVJk"
      },
      "execution_count": null,
      "outputs": []
    },
    {
      "cell_type": "code",
      "source": [
        "outdata = df[df['outcome_type'].notnull()]\n",
        "unkown = df[df['sex'] == 'Unknown']\n",
        "\n",
        "print(df['name'].mode())\n",
        "mode = list(df['name'].mode())\n",
        "filter = []\n",
        "for val in df['name']:\n",
        "  filter.append(val in mode)\n",
        "modetested = df[filter]\n",
        "print(modetested)\n",
        "#or\n",
        "mode = list(df['name'].mode())\n",
        "modetested = df[[val in mode for val in df['name']]]"
      ],
      "metadata": {
        "id": "QeguFy4ij9g-"
      },
      "execution_count": null,
      "outputs": []
    }
  ]
}